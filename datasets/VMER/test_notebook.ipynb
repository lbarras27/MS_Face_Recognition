{
 "cells": [
  {
   "cell_type": "code",
   "execution_count": 1,
   "metadata": {},
   "outputs": [],
   "source": [
    "import pandas as pd\n",
    "import numpy as np\n",
    "import os, sys\n",
    "import dataset"
   ]
  },
  {
   "cell_type": "code",
   "execution_count": null,
   "metadata": {},
   "outputs": [],
   "source": [
    "df = pd.read_xml(\"VMER_dataset/finalTest.xml\", parser=\"etree\")\n",
    "df"
   ]
  },
  {
   "cell_type": "code",
   "execution_count": null,
   "metadata": {},
   "outputs": [],
   "source": [
    "african_ids = df[df[\"ethnicity\"] == 1][\"id\"].values.tolist()\n",
    "asian_ids = df[df[\"ethnicity\"] == 2][\"id\"].values.tolist()\n",
    "caucasian_ids = df[df[\"ethnicity\"] == 3][\"id\"].values.tolist()\n",
    "indian_ids = df[df[\"ethnicity\"] == 4][\"id\"].values.tolist()"
   ]
  },
  {
   "cell_type": "code",
   "execution_count": null,
   "metadata": {},
   "outputs": [],
   "source": [
    "identities_map = dataset.get_identities_imgs_name(ethnicity_ids=african_ids)\n",
    "identities_map.keys()"
   ]
  },
  {
   "cell_type": "code",
   "execution_count": null,
   "metadata": {},
   "outputs": [],
   "source": [
    "res, res2 = dataset.generate_pairs(identities_map)"
   ]
  },
  {
   "cell_type": "code",
   "execution_count": null,
   "metadata": {},
   "outputs": [],
   "source": [
    "dataset.write_pairs(res, res2, \"african_pair_list.txt\")"
   ]
  },
  {
   "cell_type": "code",
   "execution_count": null,
   "metadata": {},
   "outputs": [],
   "source": [
    "asian_ids = df[df[\"ethnicity\"] == 2][\"id\"].values.tolist()\n",
    "identities_map = dataset.get_identities_imgs_name(ethnicity_ids=asian_ids)\n",
    "res, res2 = dataset.generate_pairs(identities_map)\n",
    "dataset.write_pairs(res, res2, \"asian_pair_list.txt\")"
   ]
  },
  {
   "cell_type": "code",
   "execution_count": null,
   "metadata": {},
   "outputs": [],
   "source": [
    "caucasian_ids = df[df[\"ethnicity\"] == 3][\"id\"].values.tolist()\n",
    "identities_map = dataset.get_identities_imgs_name(ethnicity_ids=caucasian_ids)\n",
    "res, res2 = dataset.generate_pairs(identities_map)\n",
    "dataset.write_pairs(res, res2, \"caucasian_pair_list.txt\")"
   ]
  },
  {
   "cell_type": "code",
   "execution_count": null,
   "metadata": {},
   "outputs": [],
   "source": [
    "indian_ids = df[df[\"ethnicity\"] == 4][\"id\"].values.tolist()\n",
    "identities_map = dataset.get_identities_imgs_name(ethnicity_ids=indian_ids)\n",
    "res, res2 = dataset.generate_pairs(identities_map)\n",
    "dataset.write_pairs(res, res2, \"indian_pair_list.txt\")"
   ]
  },
  {
   "cell_type": "code",
   "execution_count": null,
   "metadata": {},
   "outputs": [],
   "source": [
    "arr = np.repeat(np.arange(10), 2)\n",
    "np.random.shuffle(arr)\n",
    "arr"
   ]
  },
  {
   "cell_type": "code",
   "execution_count": null,
   "metadata": {},
   "outputs": [],
   "source": [
    "identities = np.repeat(np.arange(0, 10), 3)\n",
    "img_names = np.arange(30)\n",
    "identities, img_names"
   ]
  },
  {
   "cell_type": "code",
   "execution_count": null,
   "metadata": {},
   "outputs": [],
   "source": [
    "dic = {}\n",
    "for i, id in enumerate(identities):\n",
    "    if id not in dic:\n",
    "        id_list = [img_names[i]]\n",
    "        dic[id] = id_list\n",
    "    else:\n",
    "        dic[id].append(img_names[i])\n",
    "dic"
   ]
  },
  {
   "cell_type": "code",
   "execution_count": null,
   "metadata": {},
   "outputs": [],
   "source": [
    "np.random.choice(10, 1, replace=False)[0]"
   ]
  },
  {
   "cell_type": "code",
   "execution_count": null,
   "metadata": {},
   "outputs": [],
   "source": [
    "pairs_same = []\n",
    "pairs_diff = []\n",
    "for k, v in dic.items():\n",
    "    pair_same = np.array(v)[np.random.choice(len(v), 2, replace=False)]\n",
    "    pairs_same.append(pair_same)\n",
    "    \n",
    "    id_list = list(dic.keys())\n",
    "    id_list.remove(k)\n",
    "    other_id = np.random.choice(id_list, 1)[0]\n",
    "    pairs_diff.append([pair_same[0], np.array(dic[other_id])[np.random.choice(len(dic[other_id]), 1)[0]]])\n",
    "\n",
    "pairs_same = np.array(pairs_same)\n",
    "pairs_diff = np.array(pairs_diff)"
   ]
  },
  {
   "cell_type": "code",
   "execution_count": null,
   "metadata": {},
   "outputs": [],
   "source": [
    "pairs_diff, pairs_same"
   ]
  },
  {
   "cell_type": "code",
   "execution_count": null,
   "metadata": {},
   "outputs": [],
   "source": [
    "caucasian_ids = df[df[\"ethnicity\"] == 3][\"id\"].values.tolist()\n",
    "identities_map = dataset.get_identities_imgs_name2(ethnicity_ids=caucasian_ids)\n",
    "res, res2 = dataset.generate_pairs2(identities_map)\n",
    "dataset.write_pairs(res, res2, \"caucasian_pair_list3.txt\")"
   ]
  },
  {
   "cell_type": "code",
   "execution_count": null,
   "metadata": {},
   "outputs": [],
   "source": [
    "asian_ids = df[df[\"ethnicity\"] == 2][\"id\"].values.tolist()\n",
    "identities_map = dataset.get_identities_imgs_name2(ethnicity_ids=asian_ids)\n",
    "res, res2 = dataset.generate_pairs2(identities_map)\n",
    "dataset.write_pairs(res, res2, \"asian_pair_list4.txt\")"
   ]
  },
  {
   "cell_type": "code",
   "execution_count": null,
   "metadata": {},
   "outputs": [],
   "source": [
    "indian_ids = df[df[\"ethnicity\"] == 4][\"id\"].values.tolist()\n",
    "identities_map = dataset.get_identities_imgs_name2(ethnicity_ids=indian_ids)\n",
    "res, res2 = dataset.generate_pairs2(identities_map)\n",
    "dataset.write_pairs(res, res2, \"indian_pair_list4.txt\")"
   ]
  },
  {
   "cell_type": "code",
   "execution_count": null,
   "metadata": {},
   "outputs": [],
   "source": [
    "african_ids = df[df[\"ethnicity\"] == 1][\"id\"].values.tolist()\n",
    "identities_map = dataset.get_identities_imgs_name2(ethnicity_ids=african_ids)\n",
    "res, res2 = dataset.generate_pairs2(identities_map)\n",
    "dataset.write_pairs(res, res2, \"african_pair_list4.txt\")"
   ]
  },
  {
   "cell_type": "code",
   "execution_count": null,
   "metadata": {},
   "outputs": [],
   "source": [
    "arr = np.array([1, 2, 3, 4, 5, 6, 7, 8, 9, 10]).reshape((5,2))"
   ]
  },
  {
   "cell_type": "code",
   "execution_count": null,
   "metadata": {},
   "outputs": [],
   "source": [
    "arr"
   ]
  },
  {
   "cell_type": "code",
   "execution_count": 19,
   "metadata": {},
   "outputs": [],
   "source": [
    "dataset.generate_probe_gallery_set(\".\", \"gallery_set1_6.txt\", \"probe_set_african_6.txt\", \"african\")"
   ]
  },
  {
   "cell_type": "code",
   "execution_count": null,
   "metadata": {},
   "outputs": [],
   "source": [
    "len(african_ids)"
   ]
  },
  {
   "cell_type": "code",
   "execution_count": null,
   "metadata": {},
   "outputs": [],
   "source": [
    "# african, asian, indian, caucasian"
   ]
  }
 ],
 "metadata": {
  "interpreter": {
   "hash": "2ed831b8d34bd64582ca2d746d585557b1b890f2f2e863347b296241cfff2443"
  },
  "kernelspec": {
   "display_name": "Python 3 (ipykernel)",
   "language": "python",
   "name": "python3"
  },
  "language_info": {
   "codemirror_mode": {
    "name": "ipython",
    "version": 3
   },
   "file_extension": ".py",
   "mimetype": "text/x-python",
   "name": "python",
   "nbconvert_exporter": "python",
   "pygments_lexer": "ipython3",
   "version": "3.10.4"
  }
 },
 "nbformat": 4,
 "nbformat_minor": 2
}
