{
 "cells": [
  {
   "cell_type": "code",
   "execution_count": null,
   "metadata": {},
   "outputs": [],
   "source": [
    "import pandas as pd\n",
    "import numpy as np\n",
    "import os, sys\n",
    "import dataset"
   ]
  },
  {
   "cell_type": "code",
   "execution_count": null,
   "metadata": {},
   "outputs": [],
   "source": [
    "df = pd.read_xml(\"metadata/finalTest.xml\", parser=\"etree\")\n",
    "\n",
    "# generate metada for verification protocols\n",
    "caucasian_ids = df[df[\"ethnicity\"] == 3][\"id\"].values.tolist()\n",
    "identities_map = dataset.get_identities_imgs_name2(\"metadata\", ethnicity_ids=caucasian_ids)\n",
    "res, res2 = dataset.generate_pairs(identities_map, 10)\n",
    "dataset.write_pairs(res, res2, \"metadata/caucasian_pair_list.txt\")\n",
    "\n",
    "asian_ids = df[df[\"ethnicity\"] == 2][\"id\"].values.tolist()\n",
    "identities_map = dataset.get_identities_imgs_name2(\"metadata\", ethnicity_ids=asian_ids)\n",
    "res, res2 = dataset.generate_pairs(identities_map, 40)\n",
    "dataset.write_pairs(res, res2, \"metadata/asian_pair_list.txt\")\n",
    "\n",
    "indian_ids = df[df[\"ethnicity\"] == 4][\"id\"].values.tolist()\n",
    "identities_map = dataset.get_identities_imgs_name2(\"metadata\", ethnicity_ids=indian_ids)\n",
    "res, res2 = dataset.generate_pairs(identities_map, 80)\n",
    "dataset.write_pairs(res, res2, \"metadata/indian_pair_list.txt\")\n",
    "\n",
    "african_ids = df[df[\"ethnicity\"] == 1][\"id\"].values.tolist()\n",
    "identities_map = dataset.get_identities_imgs_name2(\"metadata\", ethnicity_ids=african_ids)\n",
    "res, res2 = dataset.generate_pairs(identities_map, 60)\n",
    "dataset.write_pairs(res, res2, \"metadata/african_pair_list.txt\")\n",
    "\n",
    "# generate data for identification protocols\n",
    "ethnicities = [\"african\", \"caucasian\", \"indian\", \"asian\"]\n",
    "for ethnicity in ethnicities:\n",
    "    dataset.generate_probe_gallery_set(\"metadata\", \"metadata/gallery_set_all_{}.txt\".format(ethnicity), \n",
    "                                       \"metadata/probe_set_{}.txt\".format(ethnicity), ethnicity)"
   ]
  },
  {
   "cell_type": "code",
   "execution_count": null,
   "metadata": {},
   "outputs": [],
   "source": [
    "# Be careful it can take a lot of time\n",
    "dataset.extract_landmarks_points(\"imgs\", \"metadata/landmarks.txt\", device=\"cuda:0\")"
   ]
  },
  {
   "cell_type": "code",
   "execution_count": null,
   "metadata": {},
   "outputs": [],
   "source": []
  }
 ],
 "metadata": {
  "interpreter": {
   "hash": "2ed831b8d34bd64582ca2d746d585557b1b890f2f2e863347b296241cfff2443"
  },
  "kernelspec": {
   "display_name": "Python 3 (ipykernel)",
   "language": "python",
   "name": "python3"
  },
  "language_info": {
   "codemirror_mode": {
    "name": "ipython",
    "version": 3
   },
   "file_extension": ".py",
   "mimetype": "text/x-python",
   "name": "python",
   "nbconvert_exporter": "python",
   "pygments_lexer": "ipython3",
   "version": "3.10.4"
  }
 },
 "nbformat": 4,
 "nbformat_minor": 2
}
