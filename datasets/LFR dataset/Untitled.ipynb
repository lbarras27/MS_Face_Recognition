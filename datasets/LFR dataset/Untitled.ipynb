{
 "cells": [
  {
   "cell_type": "code",
   "execution_count": 1,
   "id": "41820ef2",
   "metadata": {},
   "outputs": [],
   "source": [
    "from retinaface import RetinaFace"
   ]
  },
  {
   "cell_type": "code",
   "execution_count": 2,
   "id": "62e56b2a",
   "metadata": {},
   "outputs": [
    {
     "name": "stdout",
     "output_type": "stream",
     "text": [
      "Directory  C:\\Users\\lucaw /.deepface created\n",
      "Directory  C:\\Users\\lucaw /.deepface/weights created\n",
      "retinaface.h5 will be downloaded from the url https://github.com/serengil/deepface_models/releases/download/v1.0/retinaface.h5\n"
     ]
    },
    {
     "name": "stderr",
     "output_type": "stream",
     "text": [
      "Downloading...\n",
      "From: https://github.com/serengil/deepface_models/releases/download/v1.0/retinaface.h5\n",
      "To: C:\\Users\\lucaw\\.deepface\\weights\\retinaface.h5\n",
      "100%|███████████████████████████████████████████████████████████████████████████████| 119M/119M [00:23<00:00, 5.06MB/s]\n"
     ]
    }
   ],
   "source": [
    "img_path = \"LFR dataset/0711840/front/027 (1).jpg\"\n",
    "faces = RetinaFace.detect_faces(img_path)"
   ]
  },
  {
   "cell_type": "code",
   "execution_count": 5,
   "id": "c2127aea",
   "metadata": {},
   "outputs": [
    {
     "data": {
      "text/plain": [
       "{'face_1': {'score': 0.9993147850036621,\n",
       "  'facial_area': [67, 44, 183, 210],\n",
       "  'landmarks': {'right_eye': [96.326706, 113.45574],\n",
       "   'left_eye': [149.82848, 108.19445],\n",
       "   'nose': [124.14213, 142.18015],\n",
       "   'mouth_right': [102.794106, 168.79631],\n",
       "   'mouth_left': [151.72519, 163.70428]}}}"
      ]
     },
     "execution_count": 5,
     "metadata": {},
     "output_type": "execute_result"
    }
   ],
   "source": [
    "faces"
   ]
  },
  {
   "cell_type": "code",
   "execution_count": 12,
   "id": "5e5dda92",
   "metadata": {},
   "outputs": [],
   "source": [
    "landmarks = list(faces[\"face_1\"][\"landmarks\"].values())"
   ]
  },
  {
   "cell_type": "code",
   "execution_count": 17,
   "id": "62b65660",
   "metadata": {},
   "outputs": [],
   "source": [
    "line = \"\"\n",
    "for r in landmarks:\n",
    "    line += str(r[0]) + \", \" + str(r[1]) + \", \""
   ]
  },
  {
   "cell_type": "code",
   "execution_count": 18,
   "id": "20ec22d1",
   "metadata": {},
   "outputs": [
    {
     "data": {
      "text/plain": [
       "'96.326706, 113.45574, 149.82848, 108.19445, 124.14213, 142.18015, 102.794106, 168.79631, 151.72519, 163.70428'"
      ]
     },
     "execution_count": 18,
     "metadata": {},
     "output_type": "execute_result"
    }
   ],
   "source": [
    "line = line[:-2]\n",
    "line"
   ]
  },
  {
   "cell_type": "code",
   "execution_count": null,
   "id": "11c1e4d4",
   "metadata": {},
   "outputs": [],
   "source": []
  }
 ],
 "metadata": {
  "kernelspec": {
   "display_name": "Python 3 (ipykernel)",
   "language": "python",
   "name": "python3"
  },
  "language_info": {
   "codemirror_mode": {
    "name": "ipython",
    "version": 3
   },
   "file_extension": ".py",
   "mimetype": "text/x-python",
   "name": "python",
   "nbconvert_exporter": "python",
   "pygments_lexer": "ipython3",
   "version": "3.9.12"
  }
 },
 "nbformat": 4,
 "nbformat_minor": 5
}
