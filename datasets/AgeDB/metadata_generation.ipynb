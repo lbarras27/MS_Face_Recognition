{
 "cells": [
  {
   "cell_type": "code",
   "execution_count": 1,
   "metadata": {},
   "outputs": [],
   "source": [
    "import pandas as pd\n",
    "import numpy as np\n",
    "import os\n",
    "import dataset\n",
    "import cv2"
   ]
  },
  {
   "cell_type": "code",
   "execution_count": null,
   "metadata": {},
   "outputs": [],
   "source": [
    "df = pd.DataFrame(os.listdir(\"imgs\"), columns=[\"img_name\"])\n",
    "df.head()"
   ]
  },
  {
   "cell_type": "code",
   "execution_count": null,
   "metadata": {},
   "outputs": [],
   "source": [
    "new_df = pd.DataFrame(df[\"img_name\"].str.split(\"_\").tolist(), columns=[\"id_img\", \"name\", \"age\", \"gender\"])\n",
    "new_df[\"gender\"] = new_df[\"gender\"].str.slice(0, 1)\n",
    "new_df[\"img_name\"] = df[\"img_name\"]\n",
    "new_df[\"age\"] = new_df[\"age\"].astype(int)\n",
    "new_df"
   ]
  },
  {
   "cell_type": "code",
   "execution_count": null,
   "metadata": {},
   "outputs": [],
   "source": [
    "new_df.sort_values([\"name\", \"age\"])"
   ]
  },
  {
   "cell_type": "code",
   "execution_count": null,
   "metadata": {},
   "outputs": [],
   "source": [
    "int(new_df.iloc[0][\"img_name\"].split(\"_\")[-2])"
   ]
  },
  {
   "cell_type": "code",
   "execution_count": null,
   "metadata": {},
   "outputs": [],
   "source": [
    "dico = new_df.groupby(\"name\").apply(lambda x: x[[\"age\", \"img_name\"]].values.tolist()).to_dict()\n",
    "dico"
   ]
  },
  {
   "cell_type": "code",
   "execution_count": null,
   "metadata": {},
   "outputs": [],
   "source": [
    "dic_final = {}\n",
    "for id in dico.keys():\n",
    "    gap_5 = []\n",
    "    for age1 in dico[id]:\n",
    "        for age2 in dico[id]:\n",
    "            if (age1[0] - age2[0]) == 10:\n",
    "                gap_5.append([age1[1], age2[1]])\n",
    "    dic_final[id] = gap_5\n",
    "#dic_final"
   ]
  },
  {
   "cell_type": "code",
   "execution_count": null,
   "metadata": {},
   "outputs": [],
   "source": [
    "for key, value in dic_final.items():\n",
    "    if len(value) < 1:\n",
    "        print(key)"
   ]
  },
  {
   "cell_type": "code",
   "execution_count": null,
   "metadata": {},
   "outputs": [],
   "source": [
    "len(dico.keys())"
   ]
  },
  {
   "cell_type": "code",
   "execution_count": null,
   "metadata": {},
   "outputs": [],
   "source": [
    "min_max = new_df.groupby(\"name\")[\"age\"].agg(['min', 'max'])"
   ]
  },
  {
   "cell_type": "code",
   "execution_count": null,
   "metadata": {},
   "outputs": [],
   "source": [
    "(min_max[\"max\"] - min_max[\"min\"]).values"
   ]
  },
  {
   "cell_type": "code",
   "execution_count": null,
   "metadata": {},
   "outputs": [],
   "source": [
    "identities = new_df.sort_values([\"name\", \"age\"]).groupby(\"name\").apply(lambda x: x[\"img_name\"].values.tolist()).to_dict()"
   ]
  },
  {
   "cell_type": "code",
   "execution_count": null,
   "metadata": {},
   "outputs": [],
   "source": [
    "dataset.generate_pairs(\".\", \"pairs_list.txt\")"
   ]
  },
  {
   "cell_type": "code",
   "execution_count": null,
   "metadata": {},
   "outputs": [],
   "source": [
    "img = cv2.imread(\"imgs/1215_ClaudeLBviStrauss_80_m.jpg\")\n",
    "img.shape"
   ]
  },
  {
   "cell_type": "code",
   "execution_count": null,
   "metadata": {},
   "outputs": [],
   "source": [
    "img = cv2.imread(\"imgs/1214_MendeleievDmitri_65_m.jpg\")\n",
    "img.shape"
   ]
  },
  {
   "cell_type": "code",
   "execution_count": null,
   "metadata": {},
   "outputs": [],
   "source": [
    "for img_name in os.listdir(\"imgs\"):\n",
    "    print(img_name)\n",
    "    img = cv2.imread(\"imgs/\"+img_name)\n",
    "    img.shape"
   ]
  },
  {
   "cell_type": "code",
   "execution_count": null,
   "metadata": {},
   "outputs": [],
   "source": [
    "9531_RicardoMontalbаn_22_m.jpg"
   ]
  },
  {
   "cell_type": "code",
   "execution_count": null,
   "metadata": {},
   "outputs": [],
   "source": [
    "u\"\\u0430\" in \"9531_RicardoMontalbаn_22_m.jpg\""
   ]
  },
  {
   "cell_type": "code",
   "execution_count": null,
   "metadata": {},
   "outputs": [],
   "source": [
    "u\"\\u0061\" in \"9531_RicrdoMontlbаn_22_m.jpg\""
   ]
  },
  {
   "cell_type": "code",
   "execution_count": null,
   "metadata": {},
   "outputs": [],
   "source": [
    "# solve character encoding\n",
    "for img_name in os.listdir(\"imgs\"):\n",
    "    new_name = img_name\n",
    "    if u\"\\u041a\" in img_name:\n",
    "        new_name = img_name.replace(u\"\\u041a\", u\"\\u004b\")\n",
    "        os.rename(\"imgs/\"+img_name, \"imgs/\"+new_name)\n",
    "    if u\"\\u0412\" in img_name:\n",
    "        new_name = img_name.replace(u\"\\u0412\", u\"\\u0042\")\n",
    "        os.rename(\"imgs/\"+img_name, \"imgs/\"+new_name)\n",
    "    if u\"\\u0430\" in img_name:\n",
    "        new_name = img_name.replace(u\"\\u0430\", u\"\\u0061\")\n",
    "        os.rename(\"imgs/\"+img_name, \"imgs/\"+new_name)\n",
    "    \n",
    "    im = cv2.imread(\"imgs/\"+new_name)\n",
    "    im.shape"
   ]
  },
  {
   "cell_type": "code",
   "execution_count": null,
   "metadata": {},
   "outputs": [],
   "source": [
    "for img_name in os.listdir(\"imgs\"):\n",
    "    if \" _\" in img_name:\n",
    "        new_name = img_name.replace(\" _\", \"_\")\n",
    "        os.rename(\"imgs/\"+img_name, \"imgs/\"+new_name)"
   ]
  },
  {
   "cell_type": "code",
   "execution_count": null,
   "metadata": {},
   "outputs": [],
   "source": []
  },
  {
   "cell_type": "code",
   "execution_count": null,
   "metadata": {},
   "outputs": [],
   "source": [
    "dataset.get_identities_imgs_name(\".\")"
   ]
  },
  {
   "cell_type": "code",
   "execution_count": null,
   "metadata": {},
   "outputs": [],
   "source": [
    "dico = {\"a\": [1, 3], \"b\": [5, 2, 1, 5]}\n",
    "len(dico)"
   ]
  },
  {
   "cell_type": "code",
   "execution_count": null,
   "metadata": {},
   "outputs": [],
   "source": [
    "dataset.generate_file_with_all_img_names_ids(\".\", \"all_names_id.csv\")"
   ]
  },
  {
   "cell_type": "code",
   "execution_count": null,
   "metadata": {},
   "outputs": [],
   "source": [
    "dataset.generate_probe_gallery_set(\"all_names_id.csv\")"
   ]
  },
  {
   "cell_type": "code",
   "execution_count": null,
   "metadata": {},
   "outputs": [],
   "source": [
    "res = dataset.get_identities_with_gap_pairs_imgs(\".\", 5)\n",
    "res[\"AbeVigoda\"][0:5]"
   ]
  },
  {
   "cell_type": "code",
   "execution_count": 5,
   "metadata": {},
   "outputs": [],
   "source": [
    "dataset.generate_pairs_gap(\".\", \"pairs_list_gap_5_1.txt\", 5)"
   ]
  },
  {
   "cell_type": "code",
   "execution_count": null,
   "metadata": {},
   "outputs": [],
   "source": [
    "age = 29 - 10\n",
    "age_tab = [13, 15, 19, 27, 31, 42, 57, 81]\n",
    "age_tab[np.abs(np.array(age_tab) - age).argmin()]"
   ]
  },
  {
   "cell_type": "code",
   "execution_count": null,
   "metadata": {},
   "outputs": [],
   "source": [
    "gap = 30\n",
    "dataset.generate_probe_gallery_set(\".\", \"gallery_set_gap_{0}.txt\".format(gap), \"probe_set_gap_{0}.txt\".format(gap), gap)"
   ]
  },
  {
   "cell_type": "code",
   "execution_count": null,
   "metadata": {},
   "outputs": [],
   "source": []
  }
 ],
 "metadata": {
  "interpreter": {
   "hash": "9f5a91b06f25d682ee351d97d8d5bb4628a59138d250409cfc60c71290ea41a4"
  },
  "kernelspec": {
   "display_name": "Python 3 (ipykernel)",
   "language": "python",
   "name": "python3"
  },
  "language_info": {
   "codemirror_mode": {
    "name": "ipython",
    "version": 3
   },
   "file_extension": ".py",
   "mimetype": "text/x-python",
   "name": "python",
   "nbconvert_exporter": "python",
   "pygments_lexer": "ipython3",
   "version": "3.10.4"
  }
 },
 "nbformat": 4,
 "nbformat_minor": 2
}
