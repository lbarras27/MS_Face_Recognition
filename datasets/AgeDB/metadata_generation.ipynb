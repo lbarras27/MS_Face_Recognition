{
 "cells": [
  {
   "cell_type": "code",
   "execution_count": null,
   "metadata": {},
   "outputs": [],
   "source": [
    "import os\n",
    "import cv2\n",
    "import dataset"
   ]
  },
  {
   "cell_type": "code",
   "execution_count": null,
   "metadata": {},
   "outputs": [],
   "source": [
    "# Generate all the metada file for the evaluations protocols\n",
    "\n",
    "# solve character encoding\n",
    "dataset.solve_caracter_encoding_img_names(\"imgs\")\n",
    "\n",
    "dataset.generate_file_with_all_img_names_ids(\".\", \"metadata/all_names_id.csv\")\n",
    "\n",
    "gaps = [5, 10, 20, 30]\n",
    "for gap in gaps:\n",
    "    dataset.generate_pairs_gap(\".\", \"metadata/pairs_list_gap_{}.txt\".format(gap), gap)\n",
    "\n",
    "for gap in gaps:\n",
    "    dataset.generate_probe_gallery_set(\".\", \"metadata/gallery_set_gap_{0}.txt\".format(gap), \n",
    "                                            \"metadata/probe_set_gap_{0}.txt\".format(gap), gap)"
   ]
  },
  {
   "cell_type": "code",
   "execution_count": null,
   "metadata": {},
   "outputs": [],
   "source": [
    "# be carefull it can take a lot of times\n",
    "dataset.extract_landmarks_point(\"imgs\", \"metadata/landmarks.txt\", device=\"cuda:0\")"
   ]
  },
  {
   "cell_type": "code",
   "execution_count": null,
   "metadata": {},
   "outputs": [],
   "source": []
  }
 ],
 "metadata": {
  "interpreter": {
   "hash": "9f5a91b06f25d682ee351d97d8d5bb4628a59138d250409cfc60c71290ea41a4"
  },
  "kernelspec": {
   "display_name": "Python 3 (ipykernel)",
   "language": "python",
   "name": "python3"
  },
  "language_info": {
   "codemirror_mode": {
    "name": "ipython",
    "version": 3
   },
   "file_extension": ".py",
   "mimetype": "text/x-python",
   "name": "python",
   "nbconvert_exporter": "python",
   "pygments_lexer": "ipython3",
   "version": "3.10.4"
  }
 },
 "nbformat": 4,
 "nbformat_minor": 2
}
