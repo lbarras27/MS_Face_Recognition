{
 "cells": [
  {
   "cell_type": "code",
   "execution_count": 1,
   "metadata": {},
   "outputs": [],
   "source": [
    "import dataset\n",
    "import numpy as np\n",
    "import pandas as pd"
   ]
  },
  {
   "cell_type": "code",
   "execution_count": 2,
   "metadata": {},
   "outputs": [
    {
     "name": "stdout",
     "output_type": "stream",
     "text": [
      "metadata/all_names_id.csv generated\n",
      "3537\n"
     ]
    }
   ],
   "source": [
    "# generate metadata for identification protocol (verification is already given with the dataset)\n",
    "dataset.generate_file_with_all_img_names_ids(\"imgs\", \"metadata/all_names_id.csv\")\n",
    "dataset.generate_probe_gallery_set(\"metadata/all_names_id.csv\", \"metadata/gallery_set.txt\", \"metadata/probe_set.txt\")"
   ]
  },
  {
   "cell_type": "code",
   "execution_count": null,
   "metadata": {},
   "outputs": [],
   "source": []
  }
 ],
 "metadata": {
  "interpreter": {
   "hash": "9f5a91b06f25d682ee351d97d8d5bb4628a59138d250409cfc60c71290ea41a4"
  },
  "kernelspec": {
   "display_name": "Python 3 (ipykernel)",
   "language": "python",
   "name": "python3"
  },
  "language_info": {
   "codemirror_mode": {
    "name": "ipython",
    "version": 3
   },
   "file_extension": ".py",
   "mimetype": "text/x-python",
   "name": "python",
   "nbconvert_exporter": "python",
   "pygments_lexer": "ipython3",
   "version": "3.10.4"
  }
 },
 "nbformat": 4,
 "nbformat_minor": 2
}
