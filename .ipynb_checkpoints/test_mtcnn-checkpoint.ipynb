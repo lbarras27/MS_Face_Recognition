{
 "cells": [
  {
   "cell_type": "code",
   "execution_count": 1,
   "metadata": {},
   "outputs": [],
   "source": [
    "from facenet_pytorch import MTCNN\n",
    "from PIL import Image\n",
    "import cv2\n",
    "import matplotlib.pyplot as plt\n",
    "import numpy as np\n",
    "import os\n",
    "#import compute_landmarks"
   ]
  },
  {
   "cell_type": "code",
   "execution_count": null,
   "metadata": {},
   "outputs": [],
   "source": [
    "import os\n",
    "import pickle\n",
    "\n",
    "import matplotlib\n",
    "import pandas as pd\n",
    "\n",
    "matplotlib.use('Agg')\n",
    "import matplotlib.pyplot as plt\n",
    "import timeit\n",
    "import sklearn\n",
    "import argparse\n",
    "import cv2\n",
    "import numpy as np\n",
    "import torch\n",
    "from skimage import transform as trans\n",
    "from backbones import get_model\n",
    "from sklearn.metrics import roc_curve, auc\n",
    "import math\n",
    "import heapq\n",
    "from sklearn.model_selection import KFold\n",
    "\n",
    "from prettytable import PrettyTable\n",
    "from pathlib import Path"
   ]
  },
  {
   "cell_type": "code",
   "execution_count": null,
   "metadata": {},
   "outputs": [],
   "source": [
    "mtcnn = MTCNN(image_size=112)"
   ]
  },
  {
   "cell_type": "code",
   "execution_count": null,
   "metadata": {},
   "outputs": [],
   "source": [
    "img = Image.open(\"vggface2_test/test/n000001/0001_01.jpg\")\n",
    "for i in range(100):\n",
    "    img_cropped = mtcnn(img)"
   ]
  },
  {
   "cell_type": "code",
   "execution_count": null,
   "metadata": {},
   "outputs": [],
   "source": [
    "img_cropped = img_cropped.permute(1, 2, 0)\n",
    "img_cropped = img_cropped * 128 + 128\n",
    "img_cropped.shape"
   ]
  },
  {
   "cell_type": "code",
   "execution_count": null,
   "metadata": {},
   "outputs": [],
   "source": [
    "cv2.imwrite(\"img_crop.jpg\", img_cropped.numpy())"
   ]
  },
  {
   "cell_type": "code",
   "execution_count": null,
   "metadata": {},
   "outputs": [],
   "source": [
    "print([1, 4, 5])"
   ]
  },
  {
   "cell_type": "code",
   "execution_count": null,
   "metadata": {},
   "outputs": [],
   "source": [
    "mtcnn = MTCNN(keep_all=True, device='cuda:0')\n",
    "\n",
    "# Load a single image and display\n",
    "frame = cv2.imread(\"vggface2_test/test/n000001/0001_01.jpg\")\n",
    "frame = cv2.cvtColor(frame, cv2.COLOR_BGR2RGB)\n",
    "frame = Image.fromarray(frame)\n",
    "\n",
    "# Detect face\n",
    "boxes, probs, landmarks = mtcnn.detect(frame, landmarks=True)\n",
    "\n",
    "# Visualize\n",
    "fig, ax = plt.subplots(figsize=(16, 12))\n",
    "ax.imshow(frame)\n",
    "ax.axis('off')\n",
    "\n",
    "for box, landmark in zip(boxes, landmarks):\n",
    "    ax.scatter(*np.meshgrid(box[[0, 2]], box[[1, 3]]))\n",
    "    ax.scatter(landmark[:, 0], landmark[:, 1], s=8)\n",
    "fig.show()"
   ]
  },
  {
   "cell_type": "code",
   "execution_count": null,
   "metadata": {},
   "outputs": [],
   "source": [
    "with open(\"vggface2_test/caucasian_pair_list.txt\") as f:\n",
    "    lines = f.readlines()\n",
    "    \n",
    "img_list = [line.split()[0] for line in lines]\n",
    "\n",
    "imgs = []\n",
    "for img_name in img_list:\n",
    "    imgs.append(Image.open(\"vggface2_test/test/\"+img_name))"
   ]
  },
  {
   "cell_type": "code",
   "execution_count": null,
   "metadata": {},
   "outputs": [],
   "source": [
    "mtcnn = MTCNN(keep_all=True, device='cuda:0')\n",
    "all_imgs_names = []\n",
    "for identity in os.listdir(\"vggface2_test/test\"):\n",
    "    imgs_identity = os.listdir(\"vggface2_test/test/\"+identity)\n",
    "    imgs_identity = [identity+\"/\"+img for img in imgs_identity]\n",
    "    all_imgs_names += imgs_identity\n",
    "\n",
    "#imgs = []\n",
    "#for img_name in all_imgs_names:\n",
    "#    imgs.append(Image.open(\"vggface2_test/test/\"+img_name))"
   ]
  },
  {
   "cell_type": "code",
   "execution_count": null,
   "metadata": {},
   "outputs": [],
   "source": [
    "#img = Image.open(\"vggface2_test/test/n000001/0001_01.jpg\")\n",
    "with open(\"vggface2_test/landmarks.txt\", \"w\") as f:\n",
    "    for i in range(len(all_imgs_names)):\n",
    "        imgs = Image.open(\"vggface2_test/test/\"+all_imgs_names[i])\n",
    "        boxes, probs, landmarks = mtcnn.detect(imgs, landmarks=True)\n",
    "        \n",
    "        if landmarks is not None and len(landmarks) == 1:\n",
    "            f.write(all_imgs_names[i]+\" \")\n",
    "            f.write(\" \".join(landmarks.flatten().astype(str)))\n",
    "            f.write(\"\\n\")"
   ]
  },
  {
   "cell_type": "code",
   "execution_count": null,
   "metadata": {},
   "outputs": [],
   "source": [
    "img_list = [\"n000178/0092_01.jpg\", \"n000178/0135_02.jpg\"]\n",
    "compute_landmarks.compute_landmarks(\"vggface2_test/test\", img_list)"
   ]
  },
  {
   "cell_type": "code",
   "execution_count": null,
   "metadata": {},
   "outputs": [],
   "source": [
    "landmarks.shape"
   ]
  },
  {
   "cell_type": "code",
   "execution_count": null,
   "metadata": {},
   "outputs": [],
   "source": [
    "\" \".join(landmarks.flatten().astype(str))"
   ]
  },
  {
   "cell_type": "code",
   "execution_count": null,
   "metadata": {},
   "outputs": [],
   "source": [
    "with open(\"vggface2_test/caucasian_pair_list.txt\") as f:\n",
    "    lines = f.readlines()\n",
    "    \n",
    "img_list = [line.split()[0] for line in lines]\n",
    "img_list"
   ]
  },
  {
   "cell_type": "code",
   "execution_count": null,
   "metadata": {},
   "outputs": [],
   "source": [
    "compute_landmarks.compute_landmarks(\"vggface2_test/test\", img_list)"
   ]
  },
  {
   "cell_type": "code",
   "execution_count": null,
   "metadata": {},
   "outputs": [],
   "source": [
    "mtcnn = MTCNN(keep_all=True, device='cuda:0')\n",
    "\n",
    "# Load a single image and display\n",
    "frames = []\n",
    "frame = cv2.imread(\"vggface2_test/test/\" + img_list[0])\n",
    "frame = cv2.cvtColor(frame, cv2.COLOR_BGR2RGB)\n",
    "frame = Image.fromarray(frame)\n",
    "frames.append(frame)\n",
    "frame = cv2.imread(\"vggface2_test/test/\" + img_list[1])\n",
    "frame = cv2.cvtColor(frame, cv2.COLOR_BGR2RGB)\n",
    "frame = Image.fromarray(frame)\n",
    "frames.append(frame)\n",
    "\n",
    "# Detect face\n",
    "boxes, probs, landmarks = mtcnn.detect(frames, landmarks=True)"
   ]
  },
  {
   "cell_type": "code",
   "execution_count": null,
   "metadata": {},
   "outputs": [],
   "source": [
    "with open(\"vggface2_test/landmarks.txt\", \"r\") as f:\n",
    "    lines = f.readlines()\n",
    "\n",
    "img_names = []\n",
    "for line in lines:\n",
    "    img_names.append(line.split()[0])\n",
    "img_names"
   ]
  },
  {
   "cell_type": "code",
   "execution_count": null,
   "metadata": {},
   "outputs": [],
   "source": [
    "identities = {}\n",
    "for img_name in img_names:\n",
    "    ident_name = img_name.split(\"/\")\n",
    "    if ident_name[0] in identities:\n",
    "        identities[ident_name[0]].append(ident_name[1])\n",
    "    else:\n",
    "        identities[ident_name[0]] = [ident_name[1]]"
   ]
  },
  {
   "cell_type": "code",
   "execution_count": null,
   "metadata": {},
   "outputs": [],
   "source": [
    "len(identities)"
   ]
  },
  {
   "cell_type": "code",
   "execution_count": null,
   "metadata": {},
   "outputs": [],
   "source": [
    "mtcnn = MTCNN(keep_all=True, device='cuda:0')\n",
    "all_imgs_names = os.listdir(\"datasets/AgeDB/imgs\")"
   ]
  },
  {
   "cell_type": "code",
   "execution_count": null,
   "metadata": {},
   "outputs": [],
   "source": [
    "with open(\"AgeDB/landmarks.txt\", \"w\") as f:\n",
    "    for i in range(len(all_imgs_names)):\n",
    "        img = Image.open(\"AgeDB/imgs/\"+all_imgs_names[i])\n",
    "        imgs = Image.new(\"RGB\", img.size)\n",
    "        imgs.paste(img)\n",
    "        boxes, probs, landmarks = mtcnn.detect(imgs, landmarks=True)\n",
    "        \n",
    "        if landmarks is not None and len(landmarks) == 1:\n",
    "            f.write(all_imgs_names[i]+\" \")\n",
    "            f.write(\" \".join(landmarks.flatten().astype(str)))\n",
    "            f.write(\"\\n\")\n",
    "        else:\n",
    "            print(all_imgs_names[i])"
   ]
  },
  {
   "cell_type": "code",
   "execution_count": null,
   "metadata": {},
   "outputs": [],
   "source": []
  }
 ],
 "metadata": {
  "interpreter": {
   "hash": "3857998a10db8f0daeb8f550d3ceb6aef246d6859970903fb0f6b55c43341739"
  },
  "kernelspec": {
   "display_name": "Python 3 (ipykernel)",
   "language": "python",
   "name": "python3"
  },
  "language_info": {
   "codemirror_mode": {
    "name": "ipython",
    "version": 3
   },
   "file_extension": ".py",
   "mimetype": "text/x-python",
   "name": "python",
   "nbconvert_exporter": "python",
   "pygments_lexer": "ipython3",
   "version": "3.10.4"
  }
 },
 "nbformat": 4,
 "nbformat_minor": 2
}
